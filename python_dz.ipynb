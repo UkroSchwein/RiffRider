{
  "nbformat": 4,
  "nbformat_minor": 0,
  "metadata": {
    "colab": {
      "provenance": [],
      "authorship_tag": "ABX9TyPUJIpXhcrPw3gIE3Ny4ycb",
      "include_colab_link": true
    },
    "kernelspec": {
      "name": "python3",
      "display_name": "Python 3"
    },
    "language_info": {
      "name": "python"
    }
  },
  "cells": [
    {
      "cell_type": "markdown",
      "metadata": {
        "id": "view-in-github",
        "colab_type": "text"
      },
      "source": [
        "<a href=\"https://colab.research.google.com/github/UkroSchwein/RiffRider/blob/master/python_dz.ipynb\" target=\"_parent\"><img src=\"https://colab.research.google.com/assets/colab-badge.svg\" alt=\"Open In Colab\"/></a>"
      ]
    },
    {
      "cell_type": "markdown",
      "source": [
        "**2 Задание**"
      ],
      "metadata": {
        "id": "VfDBEgGzNQ5Y"
      }
    },
    {
      "cell_type": "code",
      "execution_count": null,
      "metadata": {
        "id": "qPROkPygNNKw"
      },
      "outputs": [],
      "source": [
        "import math\n",
        "def main(z):\n",
        "  if z < 166:\n",
        "    return 94 * (56 * z ** 3 - 1 - z ** 2) ** 3 + 39 * math.sin(z) ** 5 + 33 * (80 * z ** 3 -78 * z ** 2 -39) ** 6\n",
        "  elif z >= 198:\n",
        "    return 42 * z ** 6\n",
        "  else:\n",
        "    return  abs(97 + z ** 2 / 22) ** 7 - (z + z ** 3) ** 5 - 24* (z ** 3 - 1)"
      ]
    },
    {
      "cell_type": "markdown",
      "source": [
        "**3 Задание**"
      ],
      "metadata": {
        "id": "yOalvgMvRQnb"
      }
    },
    {
      "cell_type": "code",
      "source": [
        "import math\n",
        "def main(b, x, n, m, a, y):\n",
        "  res = 0\n",
        "  for c in range (1, b+1):\n",
        "    res += abs(69 * x + 32 * x ** 3 + 85 * c ** 2) ** 5 + 99 * math.sin(c) ** 4\n",
        "  right = 0\n",
        "  for k in range (1, a + 1):\n",
        "     for j in range (1, m + 1):\n",
        "        for c in range (1, n + 1):\n",
        "          right += (math.sqrt(6 * j ** 3 + 19 * k ** 2 +  60 * c)) ** 5 - y ** 6\n",
        "  return res - right"
      ],
      "metadata": {
        "colab": {
          "base_uri": "https://localhost:8080/"
        },
        "id": "gEmrfIjeRS_O",
        "outputId": "951d884e-50dd-4d21-90e7-9e2c98002dc3"
      },
      "execution_count": null,
      "outputs": [
        {
          "output_type": "stream",
          "name": "stdout",
          "text": [
            "3.007695419033298e+17\n"
          ]
        }
      ]
    },
    {
      "cell_type": "markdown",
      "source": [
        "**4 Задание**"
      ],
      "metadata": {
        "id": "J6QB2ot5VQoY"
      }
    },
    {
      "cell_type": "code",
      "source": [
        "import math\n",
        "def f(n):\n",
        "  if n == 0:\n",
        "    return -0.39\n",
        "  return f(n-1) - (f(n-1) ** 2)/ 75 - 19\n",
        "print(f(7))"
      ],
      "metadata": {
        "colab": {
          "base_uri": "https://localhost:8080/"
        },
        "id": "M1ez3HoTVYow",
        "outputId": "6cdeaaa5-7ce8-417f-df12-d06c77b7e850"
      },
      "execution_count": null,
      "outputs": [
        {
          "output_type": "stream",
          "name": "stdout",
          "text": [
            "-1222527.3423360218\n"
          ]
        }
      ]
    },
    {
      "cell_type": "markdown",
      "source": [
        "**5 Задание**"
      ],
      "metadata": {
        "id": "0TwUxSEYZDto"
      }
    },
    {
      "cell_type": "code",
      "source": [
        "import math\n",
        "def main(z):\n",
        "  x = z\n",
        "  x.insert(0, 0)\n",
        "  n = len(z)\n",
        "  sum = 0\n",
        "  for i in range (1, n + 1):\n",
        "    sum += 94 * (x[n-1-i] ** 3 + 96 * x[n - 1 -i] ** 2 + 1) ** 3\n",
        "  return sum"
      ],
      "metadata": {
        "id": "P9Oc2HQ4ZGze"
      },
      "execution_count": null,
      "outputs": []
    },
    {
      "cell_type": "markdown",
      "source": [
        "**9 Задание**"
      ],
      "metadata": {
        "id": "B8M7Zn6awpCR"
      }
    },
    {
      "cell_type": "code",
      "source": [
        "def main(input_table):\n",
        "  table = [row for row in input_table if any(row)]\n",
        "  table_transposed = list(map(list, zip(*table)))\n",
        "  for i in range(len(table_transposed[0])):\n",
        "    table_transposed[0][i] += \"00\"\n",
        "  for i in range(len(table_transposed[1])):\n",
        "    last_name, initials = table_transposed[1][i].split()\n",
        "    initials = initials[0]\n",
        "    table_transposed[1][i] = f\"{initials}. {last_name}\"\n",
        "  for i in range(len(table_transposed[2])):\n",
        "    day, month, year = table_transposed[2][i].split('/')\n",
        "    table_transposed[2][i] = f\"{year}-{month}-{day}\"\n",
        "  return table_transposed\n",
        "\n",
        "\n",
        "input_table = [['0.2', 'Даритин И.Д.', '04/02/03'], ['0.1', 'Мудичян Г.Б.', '02/12/26'], [None, None, None], ['0.4', 'Цегизак Ф.Ф.', '04/04/13'], [None, None, None], ['0.3', 'Федекян Р.Р.', '02/06/02']]\n",
        "print(main(input_table))"
      ],
      "metadata": {
        "colab": {
          "base_uri": "https://localhost:8080/"
        },
        "id": "OmibjLYnwoen",
        "outputId": "32ca3527-d462-48b3-88fe-b0e784ad9d9f"
      },
      "execution_count": null,
      "outputs": [
        {
          "output_type": "stream",
          "name": "stdout",
          "text": [
            "[['0.200', '0.100', '0.400', '0.300'], ['И. Даритин', 'Г. Мудичян', 'Ф. Цегизак', 'Р. Федекян'], ['03-02-04', '26-12-02', '13-04-04', '02-06-02']]\n"
          ]
        }
      ]
    },
    {
      "cell_type": "markdown",
      "source": [
        "10 Задание"
      ],
      "metadata": {
        "id": "cvRySR2URMzm"
      }
    },
    {
      "cell_type": "code",
      "source": [
        "class MealyError(Exception):\n",
        "    pass\n",
        "\n",
        "class Machine:\n",
        "    def __init__(self):\n",
        "        self.state = 'A'\n",
        "    def fetch(self):\n",
        "        if self.state == 'A':\n",
        "            self.state = 'B'\n",
        "            return 0\n",
        "        elif self.state == 'C':\n",
        "            self.state = 'D'\n",
        "            return 2\n",
        "        elif self.state == 'D':\n",
        "            self.state = 'E'\n",
        "            return 4\n",
        "        elif self.state == 'E':\n",
        "            self.state = 'A'\n",
        "            return 7\n",
        "        else:\n",
        "            raise MealyError('lower')\n",
        "    def lower(self):\n",
        "        if self.state == 'B':\n",
        "            self.state = 'C'\n",
        "            return 1\n",
        "        elif self.state == 'C':\n",
        "            self.state = 'A'\n",
        "            return 3\n",
        "        elif self.state == 'D':\n",
        "            self.state = 'A'\n",
        "            return 5\n",
        "        elif self.state == 'E':\n",
        "            self.state = 'F'\n",
        "            return 6\n",
        "        elif self.state == 'F':\n",
        "            self.state = 'A'\n",
        "            return 8\n",
        "        else:\n",
        "            raise MealyError('fetch')\n",
        "\n",
        "def test():\n",
        "    obj = main()\n",
        "    assert obj.state == 'A'\n",
        "    assert obj.fetch() == 0\n",
        "    assert obj.lower() == 1\n",
        "    assert obj.lower() == 3\n",
        "    assert obj.fetch() == 0\n",
        "    assert obj.lower() == 1\n",
        "    assert obj.fetch() == 2\n",
        "    assert obj.lower() == 5\n",
        "    assert obj.fetch() == 0\n",
        "    assert obj.lower() == 1\n",
        "    assert obj.fetch() == 2\n",
        "    assert obj.fetch() == 4\n",
        "    assert obj.fetch() == 7\n",
        "    try:\n",
        "        obj.lower()\n",
        "        assert False\n",
        "    except Exception as e:\n",
        "        assert type(e) == MealyError\n",
        "    assert obj.fetch() == 0\n",
        "    try:\n",
        "        obj.fetch()\n",
        "        assert False\n",
        "    except Exception as e:\n",
        "        assert type(e) == MealyError\n",
        "    assert obj.lower() == 1\n",
        "    assert obj.fetch() == 2\n",
        "    assert obj.fetch() == 4\n",
        "    assert obj.lower() == 6\n",
        "    try:\n",
        "        obj.fetch()\n",
        "        assert False\n",
        "    except Exception as e:\n",
        "        assert type(e) == MealyError\n",
        "    assert obj.lower() == 8\n",
        "    \n",
        "\n",
        "def main():\n",
        "    return Machine()\n",
        "\n",
        "test()"
      ],
      "metadata": {
        "id": "NLdayPXAROV6"
      },
      "execution_count": null,
      "outputs": []
    },
    {
      "cell_type": "code",
      "source": [
        "class MealyError(Exception):\n",
        "    pass\n",
        "\n",
        "class Machine:\n",
        "    def __init__(self):\n",
        "        self.state = 'A'\n",
        "    def fetch(self):\n",
        "        if self.state == 'A':\n",
        "            self.state = 'B'\n",
        "            return 0\n",
        "        elif self.state == 'C':\n",
        "            self.state = 'D'\n",
        "            return 2\n",
        "        elif self.state == 'D':\n",
        "            self.state = 'E'\n",
        "            return 4\n",
        "        elif self.state == 'E':\n",
        "            self.state = 'A'\n",
        "            return 7\n",
        "        else:\n",
        "            raise MealyError('fetch')\n",
        "    def lower(self):\n",
        "        if self.state == 'B':\n",
        "            self.state = 'C'\n",
        "            return 1\n",
        "        elif self.state == 'C':\n",
        "            self.state = 'A'\n",
        "            return 3\n",
        "        elif self.state == 'D':\n",
        "            self.state = 'A'\n",
        "            return 5\n",
        "        elif self.state == 'E':\n",
        "            self.state = 'F'\n",
        "            return 6\n",
        "        elif self.state == 'F':\n",
        "            self.state = 'A'\n",
        "            return 8\n",
        "        else:\n",
        "            raise MealyError('lower')\n",
        "\n",
        "def test():\n",
        "    obj = main()\n",
        "    assert obj.state == 'A'\n",
        "    assert obj.fetch() == 0\n",
        "    assert obj.lower() == 1\n",
        "    assert obj.fetch() == 2\n",
        "    assert obj.fetch() == 4\n",
        "    assert obj.lower() == 6\n",
        "    assert obj.lower() == 8\n",
        "    assert obj.fetch() == 0\n",
        "    assert obj.lower() == 1\n",
        "    assert obj.fetch() == 2\n",
        "    assert obj.fetch() == 4\n",
        "    assert obj.fetch() == 7\n",
        "    assert obj.fetch() == 0\n",
        "    assert obj.lower() == 1\n",
        "    assert obj.fetch() == 2\n",
        "    assert obj.lower() == 5\n",
        "    assert obj.fetch() == 0\n",
        "    assert obj.lower() == 1\n",
        "    assert obj.lower() == 3\n",
        "    obj1 = main()\n",
        "    try:\n",
        "        obj.lower()\n",
        "    except Exception as e:\n",
        "        assert type(e) == MealyError\n",
        "    obj2 = main()\n",
        "    try:\n",
        "      obj2.fetch()\n",
        "      obj2.fetch()\n",
        "    except Exception as e:\n",
        "        assert type(e) == MealyError\n",
        "    \n",
        "\n",
        "def main():\n",
        "    return Machine()\n",
        "\n",
        "test()"
      ],
      "metadata": {
        "id": "eR_RWS7OZyas"
      },
      "execution_count": null,
      "outputs": []
    },
    {
      "cell_type": "markdown",
      "source": [
        "**11 Задание**"
      ],
      "metadata": {
        "id": "YFUt_QZN9oGq"
      }
    },
    {
      "cell_type": "code",
      "source": [
        "import struct\n",
        " \n",
        " \n",
        "import struct\n",
        "\n",
        "def main(data):\n",
        "    # Проверяем сигнатуру\n",
        "    signature = b'\\x56\\x57\\x42\\x84'\n",
        "    if not data.startswith(signature):\n",
        "        return None\n",
        "    signature_size = len(signature)\n",
        "    result = {}\n",
        "    # Форматы для разбора данных\n",
        "    b_fmt = '>dId'\n",
        "    c_fmt = '>h i h i H b h I I h ffff f'\n",
        "    e_fmt = '>qh'\n",
        "    \n",
        "    # Разбираем структуру B\n",
        "    b_size = struct.calcsize(b_fmt)\n",
        "    b_data = struct.unpack_from(b_fmt, data, signature_size)\n",
        "    b = {\n",
        "        'B1': b_data[0],\n",
        "        'B2': b_data[1],\n",
        "        'B3': b_data[2]\n",
        "    }\n",
        "    result['A1'] = b\n",
        "    \n",
        "    # Разбираем массив char, размер 8\n",
        "    char_data = struct.unpack_from('>8s', data, signature_size + b_size)\n",
        "    a2 = char_data[0].decode('ascii')\n",
        "    result['A2'] = a2\n",
        "    \n",
        "    # Разбираем uint64\n",
        "    a3_data = struct.unpack_from('>Q', data, signature_size + b_size + len(a2))\n",
        "    a3 = a3_data[0]\n",
        "    result['A3'] = a3\n",
        "    \n",
        "    # Разбираем массив структур C, размер 2\n",
        "    c_data = []\n",
        "    c_offset = signature_size + b_size + len(a2) + 8\n",
        "    for i in range(2):\n",
        "        c_size_data = struct.unpack_from(c_fmt, data, c_offset)\n",
        "        d = {\n",
        "            'D1': c_size_data[1],\n",
        "            'D2': c_size_data[2],\n",
        "            'D3': c_size_data[3],\n",
        "            'D4': c_size_data[4]\n",
        "             }\n",
        "        array = []\n",
        "        array_size = c_size_data[7]\n",
        "        array_offset = c_size_data[8]\n",
        "        for j in range(array_size):\n",
        "            if array_offset + struct.calcsize('>h') > len(data):\n",
        "                break\n",
        "            _value = struct.unpack_from('>h', data, array_offset)\n",
        "            array.extend(_value)\n",
        "            array_offset += struct.calcsize('>h')\n",
        "        e_size_data = struct.unpack_from(e_fmt, data, c_size_data[9])  \n",
        "        e = {\n",
        "            'E1' : e_size_data[0],\n",
        "            'E2' : e_size_data[1]\n",
        "        }\n",
        "        c = {\n",
        "            'C1': c_size_data[0],\n",
        "            'C2': d,\n",
        "            'C3': c_size_data[5],\n",
        "            'C4': c_size_data[6],\n",
        "            'C5': array,\n",
        "            'C6': e,\n",
        "            'C7': [c_size_data[10], c_size_data[11],\n",
        "                   c_size_data[12], c_size_data[13]],\n",
        "            'C8': c_size_data[14]\n",
        "        }\n",
        "        c_data.append(c)\n",
        "        c_offset += struct.calcsize(c_fmt)\n",
        "    result['A4'] = c_data\n",
        "    a_size_data = struct.unpack_from('>IBBf', data, c_offset)\n",
        "    result['A5'] =  a_size_data[0]\n",
        "    result['A6'] =  a_size_data[1]\n",
        "    result['A7'] =  a_size_data[2]\n",
        "    result['A8'] =  a_size_data[3]\n",
        "    return result\n",
        "print(main((b'VWB\\x84?\\xe4\\x83\\xe8\\xb4\\x1f\\xf3\\nT!m\\xc2?\\xc3k\\x8d \\xfe\\x90\\x18ojhgezol'\n",
        " b'd\\xf8\\xa0m~\\xd1\\x90Ot\\xa8\\xbdc2#\\x9fL\\x96\\xd1\\x8a\\xa9Ii/\\xee\\xb4\\x00\\x00\\x00'\n",
        " b'\\x04\\x00\\x00\\x00\\x90\\x00\\x98\\xbf@r8?*n\\x04>&\\xeb\\xcd?,\\x89\\xa7\\xbc'\n",
        " b'\\xfc\\xad\\xb2\\xa9\\xf6\\x82V\\x04\\x05\\xb8(\\x85n\\xb1\\x80\\x06v\\xdb\\xb2@'\n",
        " b'\\x00\\x00\\x00\\x03\\x00\\x00\\x00\\xa2\\x00\\xa8?mHO\\xbf`OM?Dq\\xc0? \\xff\\xa1\\xbe\\x80'\n",
        " b'\\x98\\xa6WH\\xa8\\xb2\\xbb\\xa8\\xbe\\xd5\\xb2&\\x9b\\xf0\\x8a\\x89\\xe4\\x8c\\xd3\\xd4'\n",
        " b'\\xa4\\x0c\\x82\\x80?\\x9c\\x03\\x98\\xdeF\\xe0\\x1b\\xbc\\x08\\r\\xa8\\xa6\\xd0\\xfbS'\n",
        " b'\\x0b\\xe2jtxU')))"
      ],
      "metadata": {
        "colab": {
          "base_uri": "https://localhost:8080/"
        },
        "id": "JWeykWZm9pk6",
        "outputId": "e4291d5a-d4ea-4f3c-f68b-e66386b2440f"
      },
      "execution_count": null,
      "outputs": [
        {
          "output_type": "stream",
          "name": "stdout",
          "text": [
            "{'A1': {'B1': 0.6411021726667923, 'B2': 1411476930, 'B3': 0.15171970473341}, 'A2': 'ojhgezol', 'A3': 7275741590156578895, 'A4': [{'C1': 29864, 'C2': {'D1': -1117572573, 'D2': -24756, 'D3': -1764652375, 'D4': 18793}, 'C3': 47, 'C4': -4428, 'C5': [-25616, -30071, -7028, -11308], 'C6': {'E1': -6625777464434228328, 'E2': -8634}, 'C7': [-0.7517428398132324, 0.6657412052154541, 0.1630088835954666, 0.67397540807724], 'C8': -0.030844543129205704}, {'C1': -22026, 'C2': {'D1': -2108292091, 'D2': -18392, 'D3': -2056343168, 'D4': 1654}, 'C3': -37, 'C4': -19904, 'C5': [-8165, -17400, 3496], 'C6': {'E1': -6426360334157452684, 'E2': 30805}, 'C7': [0.9268845915794373, -0.8762100338935852, 0.7673606872558594, 0.6289005875587463], 'C8': -0.25116461515426636}], 'A5': 1464379570, 'A6': 187, 'A7': 168, 'A8': -0.41737478971481323}\n"
          ]
        }
      ]
    },
    {
      "cell_type": "markdown",
      "source": [
        "Тест"
      ],
      "metadata": {
        "id": "-QLuv7l1oj_s"
      }
    },
    {
      "cell_type": "code",
      "source": [
        "from math import floor, ceil\n",
        "def main(y, z):\n",
        " result = 0\n",
        " n = len(z)\n",
        " for i in range(1, n+1):\n",
        "  result += (floor(y[i-1] ** 2 + 1 + 15 * z[ceil(i/4)-1]) ** 4) / 26\n",
        " return 77 * result\n",
        "main([0.83, 0.16, -0.05, -0.53, -0.97],\n",
        "[0.25, 0.05, -0.79, 0.12, 0.68])\n",
        "  "
      ],
      "metadata": {
        "colab": {
          "base_uri": "https://localhost:8080/"
        },
        "id": "2LNC1bZJojjK",
        "outputId": "c2c516d3-e53b-4f7b-81b7-95c432152a2c"
      },
      "execution_count": 16,
      "outputs": [
        {
          "output_type": "execute_result",
          "data": {
            "text/plain": [
              "5265.615384615385"
            ]
          },
          "metadata": {},
          "execution_count": 16
        }
      ]
    },
    {
      "cell_type": "code",
      "source": [
        "def three(x, left, middle, right):\n",
        "  if x[3] == 'COQ':\n",
        "    return left\n",
        "  elif x[3] == 'LUA':\n",
        "    return middle\n",
        "  return right\n",
        "\n",
        "def zero(x, left, right):\n",
        "  if x[0] == 'IDL':\n",
        "    return left\n",
        "  return right\n",
        "\n",
        "def one(x, left, right):\n",
        "  if x[1] == 1970:\n",
        "    return left\n",
        "  return right\n",
        "\n",
        "def main(x):\n",
        "  if x[2] == 1981:\n",
        "    return one(x, zero(x, 6, 7), zero(x, 8, 9))\n",
        "  elif x[2] == 1982:\n",
        "        return one(x, three(x, 0, 1, 2), three(x, 3, 4, 5))\n",
        "  return 10\n",
        "\n",
        "\n",
        "print(main(['IDL', 2007, 1982, 'LUA']))\n",
        "print(main(['LLVM', 1970, 1982, 'LUA']))\n",
        "print(main(['IDL', 1970, 1981, 'COQ']))\n",
        "print(main(['IDL', 1970, 2010, 'LUA']))\n",
        "print(main(['LLVM', 2007, 1981, 'LUA']))\n"
      ],
      "metadata": {
        "colab": {
          "base_uri": "https://localhost:8080/"
        },
        "id": "NxhTDoSZznvg",
        "outputId": "994d9147-7840-428c-dc1d-513990a8a257"
      },
      "execution_count": 28,
      "outputs": [
        {
          "output_type": "stream",
          "name": "stdout",
          "text": [
            "4\n",
            "1\n",
            "6\n",
            "10\n",
            "9\n"
          ]
        }
      ]
    },
    {
      "cell_type": "code",
      "source": [
        "def three(x, left, middle, right):\n",
        "  if x[3] == 2005:\n",
        "    return left\n",
        "  elif x[3] == 1975:\n",
        "    return middle\n",
        "  else:\n",
        "    return right\n",
        "\n",
        "def one(x, left, right):\n",
        "  if x[1] == 'AGDA':\n",
        "    return left\n",
        "  else:\n",
        "    return right\n",
        " \n",
        "\n",
        "def two(x, left, right):\n",
        "  if x[2] == 'LSL':\n",
        "    return left\n",
        "  else:\n",
        "    return right\n",
        "  \n",
        "\n",
        "def main(x):\n",
        "  if x[0] == 'TWIG':\n",
        "    return two(x, three(x, 0, 1, 2), 3)\n",
        "  elif x[0] == 'PAN':\n",
        "        return one(x, three(x, 4, 5, 6), three(x, 7, 8, 9))\n",
        "  return 10\n",
        "\n",
        "\n",
        "print(main(['TERRA', 'AGDA', 'BISON', 2020]))\n",
        "print(main(['PAN', 'AGDA', 'BISON', 2020]))\n",
        "print(main(['TWIG', 'AGDA', 'LSL', 2020]))\n",
        "print(main(['TWIG', 'AGDA', 'LSL', 2005]))\n",
        "print(main(['PAN', 'AGDA', 'LSL', 2005]))"
      ],
      "metadata": {
        "colab": {
          "base_uri": "https://localhost:8080/"
        },
        "id": "LK6jRE_O8TwG",
        "outputId": "a442b540-6397-47ed-97bf-f9551480611a"
      },
      "execution_count": 29,
      "outputs": [
        {
          "output_type": "stream",
          "name": "stdout",
          "text": [
            "10\n",
            "6\n",
            "2\n",
            "0\n",
            "4\n"
          ]
        }
      ]
    },
    {
      "cell_type": "code",
      "source": [
        "def main(x):\n",
        "  x = int(x, 16)\n",
        "  x6 = (x >> 20) & 0b1\n",
        "  x5 = (x >> 17) & 0b111\n",
        "  x3 = (x >> 6) & 0b1111\n",
        "  x2 = (x >> 1) & 0b11111\n",
        "  x1 = (x >> 0) & 0b1\n",
        "  return (x1, x2, x3, x5, x6)\n",
        "print(main('0x86afe'))"
      ],
      "metadata": {
        "colab": {
          "base_uri": "https://localhost:8080/"
        },
        "id": "lJgIrZgTAWCi",
        "outputId": "e03db2ff-a665-4e00-e769-7030bb6324f7"
      },
      "execution_count": 32,
      "outputs": [
        {
          "output_type": "stream",
          "name": "stdout",
          "text": [
            "(0, 31, 11, 4, 0)\n"
          ]
        }
      ]
    },
    {
      "cell_type": "code",
      "source": [
        "def main(x):\n",
        "  x5 = (x >> 26) & 0b1111\n",
        "  x4 = (x >> 17) & 0b111111111\n",
        "  x3 = (x >> 16) & 0b1\n",
        "  x2 = (x >> 9) & 0b1111111\n",
        "  x1 = (x >> 0) & 0b111111111\n",
        "  return (x1, x2, x3, x4, x5)\n",
        "print(main(971354762))"
      ],
      "metadata": {
        "colab": {
          "base_uri": "https://localhost:8080/"
        },
        "id": "YRWZRc6SBu94",
        "outputId": "7d7f7198-4860-428d-ef81-4ea72b409ef3"
      },
      "execution_count": 33,
      "outputs": [
        {
          "output_type": "stream",
          "name": "stdout",
          "text": [
            "(138, 89, 1, 242, 14)\n"
          ]
        }
      ]
    },
    {
      "cell_type": "code",
      "source": [
        "#Транскодирование\n",
        "def main(num):\n",
        " num = int(num, 16)\n",
        " x5 = (num >> 29) & 0b11111\n",
        " x4 = (num >> 24) & 0b11111\n",
        " x3 = (num >> 14) & 0b1111111111\n",
        " x2 = (num >> 10) & 0b1111\n",
        " x1 = (num >> 0) & 0b1111111111\n",
        " res = (x1 << 24) | (x5 << 19) | (x3 << 9) | (x4 << 4) | (x2 << 0)\n",
        " return int(res)\n",
        "main('0x2c845fb48')"
      ],
      "metadata": {
        "colab": {
          "base_uri": "https://localhost:8080/"
        },
        "id": "ghku-UW7C990",
        "outputId": "53e74ca7-b001-47a3-c8da-0aa78bfc30c5"
      },
      "execution_count": 34,
      "outputs": [
        {
          "output_type": "execute_result",
          "data": {
            "text/plain": [
              "14104538766"
            ]
          },
          "metadata": {},
          "execution_count": 34
        }
      ]
    },
    {
      "cell_type": "code",
      "source": [
        "def main(num):\n",
        " x5 = (num[0] << 20)\n",
        " print(x5)\n",
        " x3 = (num[1] << 18) \n",
        " print(x3)\n",
        " x2 = (num[2] << 9)\n",
        " res = x5 + x3 + x2\n",
        " return hex(res)\n",
        "print(main((393, 2, 1)))"
      ],
      "metadata": {
        "colab": {
          "base_uri": "https://localhost:8080/"
        },
        "id": "CQ_wq-DrDWJt",
        "outputId": "39de53c8-c483-42a5-95ce-fda1b62b12fb"
      },
      "execution_count": 71,
      "outputs": [
        {
          "output_type": "stream",
          "name": "stdout",
          "text": [
            "412090368\n",
            "524288\n",
            "0x18980200\n"
          ]
        }
      ]
    },
    {
      "cell_type": "code",
      "source": [
        "def main(x):\n",
        "  i5 = (x['I5'] << 22) & 0b1111111111\n",
        "  print(i5)\n",
        "  i4 = (x['I4'] << 16) & 0b111111\n",
        "  print(i4)\n",
        "  i3 = (x['I3'] << 9) & 0b1111111\n",
        "  print(i3)\n",
        "  i2 = (x['I2'] << 3) & 0b111111\n",
        "  print(i2)\n",
        "  i1 = (x['I1'] >> 0) & 0b111\n",
        "  return i5 | i4 | i3 | i2 | i1\n",
        "\n",
        "print(main({'I1': 3, 'I2': 32, 'I3': 99, 'I4': 28, 'I5': 294}))"
      ],
      "metadata": {
        "colab": {
          "base_uri": "https://localhost:8080/"
        },
        "id": "HOs0TfDxJp5O",
        "outputId": "6933db44-ea36-4f34-a3f4-973aef6ab49e"
      },
      "execution_count": 82,
      "outputs": [
        {
          "output_type": "stream",
          "name": "stdout",
          "text": [
            "0\n",
            "0\n",
            "0\n",
            "0\n",
            "3\n"
          ]
        }
      ]
    },
    {
      "cell_type": "code",
      "source": [
        "def main(x):\n",
        "  i5 = (x['I5'] << 22)\n",
        "  print(i5)\n",
        "  i4 = (x['I4'] << 16)\n",
        "  print(i4)\n",
        "  i3 = (x['I3'] << 15)\n",
        "  print(i3)\n",
        "  i2 = (x['I2'] << 8)\n",
        "  print(i2)\n",
        "  i1 = (x['I1'] << 2)\n",
        "  return i5 + i4 + i3 + i2 + i1\n",
        "\n",
        "print(main({'I1': 3, 'I2': 32, 'I3': 99, 'I4': 28, 'I5': 294}))"
      ],
      "metadata": {
        "colab": {
          "base_uri": "https://localhost:8080/"
        },
        "id": "bybiV6t0JtrI",
        "outputId": "f20ad893-6716-4d6e-9743-6c77f4c4e507"
      },
      "execution_count": 96,
      "outputs": [
        {
          "output_type": "stream",
          "name": "stdout",
          "text": [
            "631360192512\n",
            "58720256\n",
            "3244032\n",
            "8192\n",
            "631422165004\n"
          ]
        }
      ]
    },
    {
      "cell_type": "code",
      "source": [
        "# class MealyError(Exception):\n",
        "#   pass\n",
        "# class Machine:\n",
        "#   def _init_(self):\n",
        "#       self.state = 'A'\n",
        "#   def func(self):\n",
        "#     if (self.state == 'A'):\n",
        "#       self.state ='B'\n",
        "#       return 9\n",
        "#     elif (self.state == 'C'):\n",
        "#       self.state = 'D'\n",
        "#       return\n",
        "#     else:\n",
        "#       raise MealyError('func')\n",
        "# def main():\n",
        "#   return Machine;\n",
        "\n",
        "# def test():\n",
        "#   obj = main()\n",
        "#   assert obj.state == 'A'\n",
        "#   try:\n",
        "#     obj.func()\n",
        "#   except as e:\n",
        "#     assert type(e) == MealyError\n",
        "\n",
        "\n",
        "\n",
        "\n",
        "test()"
      ],
      "metadata": {
        "id": "l8hxGliwUHwf"
      },
      "execution_count": null,
      "outputs": []
    },
    {
      "cell_type": "code",
      "source": [
        "#Кодирование\n",
        "def main(n):\n",
        "  n6 = (n[5] & 0b1111111) << 33\n",
        "  n5 =(n[4] & 0b1111111111) << 23\n",
        "  n4 =(n[3] & 0b111111) << 17\n",
        "  n3 =(n[2] & 0b11111) << 12\n",
        "  n2 =(n[1] & 0b1111111 )<< 5\n",
        "  n1 =(n[0] & 0b11111) << 0\n",
        "  return hex(n6 | n5 | n4 | n3 | n2 | n1)\n",
        "main((19, 12, 19, 55, 182, 7))"
      ],
      "metadata": {
        "colab": {
          "base_uri": "https://localhost:8080/",
          "height": 35
        },
        "id": "2Q_RSerHXmRk",
        "outputId": "4ff62ff1-431e-4e97-b8c2-e682b7c20ed1"
      },
      "execution_count": 106,
      "outputs": [
        {
          "output_type": "execute_result",
          "data": {
            "text/plain": [
              "'0xe5b6f3193'"
            ],
            "application/vnd.google.colaboratory.intrinsic+json": {
              "type": "string"
            }
          },
          "metadata": {},
          "execution_count": 106
        }
      ]
    },
    {
      "cell_type": "code",
      "source": [
        "def main(n):\n",
        "  n6 = (int(n[4][1], 16) & 0b1111111) << 35\n",
        "  n5 =(int(n[3][1], 16) & 0b11111111) << 27\n",
        "  n4 =(int(n[2][1], 16) & 0b1111111) << 20\n",
        "  n3 = (int(n[1][1], 16) & 0b111) << 17\n",
        "  n1 =(int(n[0][1], 16) & 0b111111111) << 0\n",
        "  return str(n6 | n5 | n4 | n3 | n1)\n",
        "\n",
        "main([('S1', '0x171'), ('S3', '0x7'), ('S4', '0x48'), ('S5', '0x9e'), ('S6', '0x1a')])"
      ],
      "metadata": {
        "colab": {
          "base_uri": "https://localhost:8080/",
          "height": 35
        },
        "id": "HqcTKFBibcuN",
        "outputId": "f343887f-31c6-43a2-cd8e-041c974b064b"
      },
      "execution_count": 117,
      "outputs": [
        {
          "output_type": "execute_result",
          "data": {
            "text/plain": [
              "'914636013937'"
            ],
            "application/vnd.google.colaboratory.intrinsic+json": {
              "type": "string"
            }
          },
          "metadata": {},
          "execution_count": 117
        }
      ]
    },
    {
      "cell_type": "code",
      "source": [
        "#Декодирование\n",
        "def main(n):\n",
        "  n = int(n, 16)\n",
        "  n5 = (n >> 22) & 0b1111\n",
        "  n4 = (n >> 14) & 0b11111111\n",
        "  n3 = (n  >> 7) & 0b1111111\n",
        "  n2 = (n>> 4) & 0b111\n",
        "  n1 = (n >> 0) & 0b1111\n",
        "  res = (n1, n2, n3, n4, n5)\n",
        "  return res\n",
        "main('0x14cb5a7')\n",
        "\n"
      ],
      "metadata": {
        "colab": {
          "base_uri": "https://localhost:8080/"
        },
        "id": "cNFQGHnEeBnu",
        "outputId": "d05af7cd-62b1-4439-bbf3-38f9af12157d"
      },
      "execution_count": 120,
      "outputs": [
        {
          "output_type": "execute_result",
          "data": {
            "text/plain": [
              "(7, 2, 107, 50, 5)"
            ]
          },
          "metadata": {},
          "execution_count": 120
        }
      ]
    },
    {
      "cell_type": "code",
      "source": [
        "#Кодирование\n",
        "def main(n):\n",
        "  n5 =(n['I5'] & 0b111111111) << 22\n",
        "  n4 =(n['I4'] & 0b111111) << 16\n",
        "  n3 =(n['I3'] & 0b1111111) << 9\n",
        "  n2 =(n['I2'] & 0b111111 )<< 3\n",
        "  n1 =(n['I1'] & 0b111) << 0\n",
        "  return n5 + n4 + n3 + n2 + n1\n",
        "main({'I1': 3, 'I2': 32, 'I3': 99, 'I4': 28, 'I5': 294})"
      ],
      "metadata": {
        "colab": {
          "base_uri": "https://localhost:8080/"
        },
        "id": "LT_9dHUtgorI",
        "outputId": "660176d8-ed78-4c94-d280-b6c06e70748d"
      },
      "execution_count": 123,
      "outputs": [
        {
          "output_type": "execute_result",
          "data": {
            "text/plain": [
              "1235011331"
            ]
          },
          "metadata": {},
          "execution_count": 123
        }
      ]
    },
    {
      "cell_type": "code",
      "source": [
        "def main(n):\n",
        "  n = int(n)\n",
        "  n4 = (n >> 10) & 0b111111111\n",
        "  n3 = (n >> 4) & 0b111111\n",
        "  n2 = (n >> 1) & 0b111\n",
        "  n1 = (n >> 0) & 0b1\n",
        "\n",
        "  res = (n3 << 13) | (n1 << 12) | (n4 << 3) | (n2 << 0)\n",
        "  return res\n",
        "main('475025')"
      ],
      "metadata": {
        "colab": {
          "base_uri": "https://localhost:8080/"
        },
        "id": "iby_lav3iiYW",
        "outputId": "87dc2b94-84f4-4b7f-ab10-935946fd7205"
      },
      "execution_count": 131,
      "outputs": [
        {
          "output_type": "execute_result",
          "data": {
            "text/plain": [
              "474744"
            ]
          },
          "metadata": {},
          "execution_count": 131
        }
      ]
    },
    {
      "cell_type": "code",
      "source": [
        "#Транскодирование\n",
        "def main(n):\n",
        "  n = int(n, 16)\n",
        "  n5 = (n >> 18) & 0b111111111\n",
        "  n4 = (n >> 12) & 0b111111\n",
        "  n3 = (n >> 11) & 0b1\n",
        "  n2 = (n >> 10) & 0b1\n",
        "  n1 = (n >> 0) & 0b1111111111\n",
        "\n",
        "  res = (n5 << 18) + (n1 << 8) + (n2 << 7) + (n3 << 6) + (n4 << 0)\n",
        "  return res\n",
        "main('0x3c3997d')"
      ],
      "metadata": {
        "colab": {
          "base_uri": "https://localhost:8080/"
        },
        "id": "JZub3DhvlRMM",
        "outputId": "a5a96da6-9816-47e4-e319-094c0e4aea22"
      },
      "execution_count": 139,
      "outputs": [
        {
          "output_type": "execute_result",
          "data": {
            "text/plain": [
              "63012217"
            ]
          },
          "metadata": {},
          "execution_count": 139
        }
      ]
    }
  ]
}